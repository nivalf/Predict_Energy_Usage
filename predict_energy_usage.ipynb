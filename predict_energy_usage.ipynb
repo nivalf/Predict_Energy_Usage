{
  "nbformat": 4,
  "nbformat_minor": 0,
  "metadata": {
    "colab": {
      "provenance": [],
      "mount_file_id": "1HHpeYjBLcW7MgNfZ04CPG5SIYaW4Wlbz",
      "authorship_tag": "ABX9TyOuI3H4miRwNWpBpipMjCJy",
      "include_colab_link": true
    },
    "kernelspec": {
      "name": "python3",
      "display_name": "Python 3"
    },
    "language_info": {
      "name": "python"
    }
  },
  "cells": [
    {
      "cell_type": "markdown",
      "metadata": {
        "id": "view-in-github",
        "colab_type": "text"
      },
      "source": [
        "<a href=\"https://colab.research.google.com/github/nivalf/Predict_Energy_Usage/blob/main/predict_energy_usage.ipynb\" target=\"_parent\"><img src=\"https://colab.research.google.com/assets/colab-badge.svg\" alt=\"Open In Colab\"/></a>"
      ]
    },
    {
      "cell_type": "markdown",
      "source": [
        "#Predict Energy Usage"
      ],
      "metadata": {
        "id": "6B1FoSNIfcgx"
      }
    },
    {
      "cell_type": "markdown",
      "source": [
        "\n",
        "\n",
        "A dataset with information on weather in an area and the energy use of a residential building is given.\n",
        "The data set comprises the timestamp the data were taken, the amount of energy used by various\n",
        "home appliances and rooms, the amount of energy produced by a solar panel that was installed, *and*\n",
        "various weather conditions including cloud cover, wind speed, precipitation, etc. The dataset has a\n",
        "total of 30 features. This assignment’s goal is to create multiple machine learning models to\n",
        "predict how much energy will be consumed and assess the effectiveness of each model using various\n",
        "matrices."
      ],
      "metadata": {
        "id": "DA5A_cIZYbxD"
      }
    },
    {
      "cell_type": "markdown",
      "source": [
        "###Domain Analysis\n",
        "\n",
        "The household electric energy consumption is highly correlated to air temperature, moderately correlated to precipitation and duration of sunshine [1].\n",
        "\n",
        "When the daily temperature rises, the daily electricity demand falls [2]. The decline in demand as the temperature rises could be attributed to a number of factors, including an increase in outside activity and a decrease in the need for heating [1]. However, it is interesting to note that this pattern isn’t essentially true from late night hours to early morning time. This is because the people would be resting during this time. The electricity usage shows high sensitivity to temperature during the day time and early night time [1].\n",
        "\n",
        "Given that individuals are less inclined to go outside when it rains more heavily, more rainfall may be related to higher electricity demand. As in the case of temperature, rain doesn’t have much effect on the energy consumption during late nights and early mornings for the same reasons [1].\n",
        "\n",
        "People tend to engage in more outdoor activities during sunny days leading to a reduction in the household energy consumption. However a clear pattern is observed before and after the time 15:00. It can be explained as more indoor activities might take place from morning to around 15:00 and later people get engaged in outdoor activities [1] [3] [4].\n",
        "\n",
        "The daytime till late-night demand for power is increased by relative humidity and wind speed. This pattern is similar to that of temperature. However, all the effects of humidity and wind speed are relatively insignificant [1].\n",
        "\n",
        "The energy consumption during weekends follow a different pattern than weekdays. This could be because people spend more time at house rather than office during weekends and the activities during weekend vary considerably from that of weekdays [1]. \n",
        "\n",
        "Thus, temperature, precipitation and duration of sunshine are major factors for deciding energy consumption whereas humidity and wind speed has very small influence [1]. However, the humidity and wind speed can be combined with temperature to get apparent temperature which is the perceived temperature in degrees Fahrenheit for the specified hour determined by either a combination of temperature and wind (Wind Chill) or by a combination of temperature and humidity (Heat Index). The wind chill factor will be applied to a grid point’s apparent temperature when the outside temperature drops to 50 F or less at that location. The heat index will be utilised for Apparent Temperature whenever a grid point’s temperature exceeds 80 F. The ambient air temperature is represented as the\n",
        "apparent temperature between 51 and 80 F [5].\n",
        "\n",
        "A solar panel attached to a house can generate a fair amount of energy at suitable environmental conditions. Even while solar energy can still be captured on cloudy and rainy days, the solar panel’s energy generation effectiveness is reduced. Sunlight is necessary for solar panels to efficiently collect solar energy. As a result, a few days of cloudy, rainy weather can significantly affect the energy grid. Furthermore, higher temperature doesn’t necessarily mean higher energy generation. Solar panels\n",
        "have ambient working temperature which is dependent on its manufacture [6].\n",
        "\n",
        "\n",
        "####References\n",
        "\n",
        "[1] J. Kang and D. M. Reiner, “What is the effect of weather on household electricity consumption?\n",
        "Empirical evidence from Ireland,” Energy Economics, vol. 111, p. 106023, 2022.\n",
        "\n",
        "[2] L. Bl ́azquez, N. Boogen, and M. Filippini, “Residential electricity demand in spain: New empirical\n",
        "evidence using aggregate data,” Energy Economics, vol. 36, p. 648–657, 2013.\n",
        "\n",
        "[3] J. Harold, S. Lyons, and J. Cullinan, “The determinants of residential gas demand in ireland,”\n",
        "Energy Economics, vol. 51, p. 475–483, 2015.\n",
        "\n",
        "[4] V. D. Cosmo and D. O’Hora, “Nudging electricity consumption using TOU pricing and feedback:\n",
        "Evidence from Irish households,” Journal of Economic Psychology, vol. 61, p. 1–14, 2017.\n",
        "\n",
        "[5] \"What is apparent temperature?\". [Online]. Available: https://meteor.geol.iastate.edu/~ckarsten/bufkit/apparent_temperature.html\n",
        "\n",
        "[6] “How does the weather affect your solar panels?” Feb 2020. [Online]. Available:\n",
        "https://www.penrithsolar.com.au/blog/how-does-the-weather-affect-your-solar-panels\n",
        "\n"
      ],
      "metadata": {
        "id": "t3kzegFraJx3"
      }
    },
    {
      "cell_type": "markdown",
      "source": [
        "# 1. Import Libraries & Load Data"
      ],
      "metadata": {
        "id": "Us1WOnQZgIUg"
      }
    },
    {
      "cell_type": "markdown",
      "source": [
        "### Setup\n",
        "\n",
        "First, let's import a few common modules, ensure MatplotLib plots figures inline and prepare a function to save the figures. We also check that Python 3.5 or later is installed, as well as Scikit-Learn ≥0.20."
      ],
      "metadata": {
        "id": "GNnL_cG0YZdJ"
      }
    },
    {
      "cell_type": "code",
      "execution_count": 2,
      "metadata": {
        "id": "ZeCrmMvS8PCh"
      },
      "outputs": [],
      "source": [
        "# Python ≥3.5 is required\n",
        "import sys\n",
        "assert sys.version_info >= (3, 5)\n",
        "\n",
        "# Scikit-Learn ≥0.20 is required\n",
        "import sklearn\n",
        "assert sklearn.__version__ >= \"0.20\"\n",
        "\n",
        "# Common imports\n",
        "import numpy as np\n",
        "import os\n",
        "\n",
        "# To plot pretty figures\n",
        "%matplotlib inline\n",
        "import matplotlib as mpl\n",
        "import matplotlib.pyplot as plt\n",
        "mpl.rc('axes', labelsize=14)\n",
        "mpl.rc('xtick', labelsize=12)\n",
        "mpl.rc('ytick', labelsize=12)\n",
        "\n",
        "# Where to save the figures\n",
        "PROJECT_ROOT_DIR = \".\"\n",
        "CHAPTER_ID = \"predict_diamond_price\"\n",
        "IMAGES_PATH = os.path.join(PROJECT_ROOT_DIR, \"images\", CHAPTER_ID)\n",
        "os.makedirs(IMAGES_PATH, exist_ok=True)\n",
        "\n",
        "def save_fig(fig_id, tight_layout=True, fig_extension=\"png\", resolution=300):\n",
        "    path = os.path.join(IMAGES_PATH, fig_id + \".\" + fig_extension)\n",
        "    print(\"Saving figure\", fig_id)\n",
        "    if tight_layout:\n",
        "        plt.tight_layout()\n",
        "    plt.savefig(path, format=fig_extension, dpi=resolution)\n",
        "\n",
        "# Ignore useless warnings (see SciPy issue #5998)\n",
        "import warnings\n",
        "warnings.filterwarnings(action=\"ignore\", message=\"^internal gelsd\")"
      ]
    },
    {
      "cell_type": "markdown",
      "source": [
        "### Load the Data"
      ],
      "metadata": {
        "id": "yP60-LV6YlHC"
      }
    },
    {
      "cell_type": "code",
      "source": [
        "import pandas as pd\n",
        "\n",
        "def load_energy_usage_data():\n",
        "    return pd.read_csv('https://raw.githubusercontent.com/nivalf/Predict_Energy_Usage/main/data/dataset.csv')"
      ],
      "metadata": {
        "id": "Td8qgpUdYYHQ"
      },
      "execution_count": 3,
      "outputs": []
    },
    {
      "cell_type": "code",
      "source": [
        "energy_usage = load_energy_usage_data()"
      ],
      "metadata": {
        "colab": {
          "base_uri": "https://localhost:8080/"
        },
        "id": "4GKslFWDYqWL",
        "outputId": "fdac36da-1db7-447c-9e85-5f1079fc717f"
      },
      "execution_count": 4,
      "outputs": [
        {
          "output_type": "stream",
          "name": "stderr",
          "text": [
            "<ipython-input-4-b80577b4aa09>:1: DtypeWarning: Columns (0) have mixed types.Specify dtype option on import or set low_memory=False.\n",
            "  energy_usage = load_energy_usage_data()\n"
          ]
        }
      ]
    },
    {
      "cell_type": "code",
      "source": [
        "energy_usage.info()"
      ],
      "metadata": {
        "colab": {
          "base_uri": "https://localhost:8080/"
        },
        "id": "MncjswSTg1mg",
        "outputId": "104ae450-ac47-4054-9913-d41ea0e8ab08"
      },
      "execution_count": 14,
      "outputs": [
        {
          "output_type": "stream",
          "name": "stdout",
          "text": [
            "<class 'pandas.core.frame.DataFrame'>\n",
            "RangeIndex: 50392 entries, 0 to 50391\n",
            "Data columns (total 30 columns):\n",
            " #   Column               Non-Null Count  Dtype  \n",
            "---  ------               --------------  -----  \n",
            " 0   time                 50392 non-null  object \n",
            " 1   use [kW]             50391 non-null  float64\n",
            " 2   gen [kW]             50391 non-null  float64\n",
            " 3   House overall [kW]   50391 non-null  float64\n",
            " 4   Dishwasher [kW]      50391 non-null  float64\n",
            " 5   Furnace 1 [kW]       50391 non-null  float64\n",
            " 6   Furnace 2 [kW]       50391 non-null  float64\n",
            " 7   Home office [kW]     50391 non-null  float64\n",
            " 8   Fridge [kW]          50391 non-null  float64\n",
            " 9   Wine cellar [kW]     50391 non-null  float64\n",
            " 10  Garage door [kW]     50391 non-null  float64\n",
            " 11  Kitchen 12 [kW]      50391 non-null  float64\n",
            " 12  Kitchen 14 [kW]      50391 non-null  float64\n",
            " 13  Kitchen 38 [kW]      50391 non-null  float64\n",
            " 14  Barn [kW]            50391 non-null  float64\n",
            " 15  Well [kW]            50391 non-null  float64\n",
            " 16  Microwave [kW]       50391 non-null  float64\n",
            " 17  Living room [kW]     50391 non-null  float64\n",
            " 18  Solar [kW]           50391 non-null  float64\n",
            " 19  temperature          50391 non-null  float64\n",
            " 20  Weather icon         50391 non-null  object \n",
            " 21  humidity             50391 non-null  float64\n",
            " 22  visibility           50391 non-null  float64\n",
            " 23  apparentTemperature  50391 non-null  float64\n",
            " 24  pressure             50391 non-null  float64\n",
            " 25  windSpeed            50391 non-null  float64\n",
            " 26  windBearing          50391 non-null  float64\n",
            " 27  precipIntensity      50391 non-null  float64\n",
            " 28  dewPoint             50391 non-null  float64\n",
            " 29  precipProbability    50391 non-null  float64\n",
            "dtypes: float64(28), object(2)\n",
            "memory usage: 11.5+ MB\n"
          ]
        }
      ]
    },
    {
      "cell_type": "markdown",
      "source": [
        "# 2. Pre-Processing & Feature Engineering"
      ],
      "metadata": {
        "id": "5mORmaO6glKR"
      }
    },
    {
      "cell_type": "markdown",
      "source": [
        "### Clean the Data\n",
        "\n",
        "The error observed after loading the data indicates mixed values in Column 0. \n",
        "\n",
        "Checking for NaN values in the dataframe:"
      ],
      "metadata": {
        "id": "VDH6iRGL9rND"
      }
    },
    {
      "cell_type": "code",
      "source": [
        "energy_usage[energy_usage.isna().any(axis=1)]"
      ],
      "metadata": {
        "colab": {
          "base_uri": "https://localhost:8080/",
          "height": 209
        },
        "id": "Fkvgimtndk5U",
        "outputId": "ca6a1c1a-29e4-4fa1-bf4c-cf8954e88967"
      },
      "execution_count": 13,
      "outputs": [
        {
          "output_type": "execute_result",
          "data": {
            "text/plain": [
              "      time  use [kW]  gen [kW]  House overall [kW]  Dishwasher [kW]  \\\n",
              "50391    \\       NaN       NaN                 NaN              NaN   \n",
              "\n",
              "       Furnace 1 [kW]  Furnace 2 [kW]  Home office [kW]  Fridge [kW]  \\\n",
              "50391             NaN             NaN               NaN          NaN   \n",
              "\n",
              "       Wine cellar [kW]  ...  Weather icon  humidity  visibility  \\\n",
              "50391               NaN  ...           NaN       NaN         NaN   \n",
              "\n",
              "       apparentTemperature  pressure  windSpeed  windBearing  precipIntensity  \\\n",
              "50391                  NaN       NaN        NaN          NaN              NaN   \n",
              "\n",
              "       dewPoint  precipProbability  \n",
              "50391       NaN                NaN  \n",
              "\n",
              "[1 rows x 30 columns]"
            ],
            "text/html": [
              "\n",
              "  <div id=\"df-0bf1c375-ccc7-416f-b400-be2049f414f9\">\n",
              "    <div class=\"colab-df-container\">\n",
              "      <div>\n",
              "<style scoped>\n",
              "    .dataframe tbody tr th:only-of-type {\n",
              "        vertical-align: middle;\n",
              "    }\n",
              "\n",
              "    .dataframe tbody tr th {\n",
              "        vertical-align: top;\n",
              "    }\n",
              "\n",
              "    .dataframe thead th {\n",
              "        text-align: right;\n",
              "    }\n",
              "</style>\n",
              "<table border=\"1\" class=\"dataframe\">\n",
              "  <thead>\n",
              "    <tr style=\"text-align: right;\">\n",
              "      <th></th>\n",
              "      <th>time</th>\n",
              "      <th>use [kW]</th>\n",
              "      <th>gen [kW]</th>\n",
              "      <th>House overall [kW]</th>\n",
              "      <th>Dishwasher [kW]</th>\n",
              "      <th>Furnace 1 [kW]</th>\n",
              "      <th>Furnace 2 [kW]</th>\n",
              "      <th>Home office [kW]</th>\n",
              "      <th>Fridge [kW]</th>\n",
              "      <th>Wine cellar [kW]</th>\n",
              "      <th>...</th>\n",
              "      <th>Weather icon</th>\n",
              "      <th>humidity</th>\n",
              "      <th>visibility</th>\n",
              "      <th>apparentTemperature</th>\n",
              "      <th>pressure</th>\n",
              "      <th>windSpeed</th>\n",
              "      <th>windBearing</th>\n",
              "      <th>precipIntensity</th>\n",
              "      <th>dewPoint</th>\n",
              "      <th>precipProbability</th>\n",
              "    </tr>\n",
              "  </thead>\n",
              "  <tbody>\n",
              "    <tr>\n",
              "      <th>50391</th>\n",
              "      <td>\\</td>\n",
              "      <td>NaN</td>\n",
              "      <td>NaN</td>\n",
              "      <td>NaN</td>\n",
              "      <td>NaN</td>\n",
              "      <td>NaN</td>\n",
              "      <td>NaN</td>\n",
              "      <td>NaN</td>\n",
              "      <td>NaN</td>\n",
              "      <td>NaN</td>\n",
              "      <td>...</td>\n",
              "      <td>NaN</td>\n",
              "      <td>NaN</td>\n",
              "      <td>NaN</td>\n",
              "      <td>NaN</td>\n",
              "      <td>NaN</td>\n",
              "      <td>NaN</td>\n",
              "      <td>NaN</td>\n",
              "      <td>NaN</td>\n",
              "      <td>NaN</td>\n",
              "      <td>NaN</td>\n",
              "    </tr>\n",
              "  </tbody>\n",
              "</table>\n",
              "<p>1 rows × 30 columns</p>\n",
              "</div>\n",
              "      <button class=\"colab-df-convert\" onclick=\"convertToInteractive('df-0bf1c375-ccc7-416f-b400-be2049f414f9')\"\n",
              "              title=\"Convert this dataframe to an interactive table.\"\n",
              "              style=\"display:none;\">\n",
              "        \n",
              "  <svg xmlns=\"http://www.w3.org/2000/svg\" height=\"24px\"viewBox=\"0 0 24 24\"\n",
              "       width=\"24px\">\n",
              "    <path d=\"M0 0h24v24H0V0z\" fill=\"none\"/>\n",
              "    <path d=\"M18.56 5.44l.94 2.06.94-2.06 2.06-.94-2.06-.94-.94-2.06-.94 2.06-2.06.94zm-11 1L8.5 8.5l.94-2.06 2.06-.94-2.06-.94L8.5 2.5l-.94 2.06-2.06.94zm10 10l.94 2.06.94-2.06 2.06-.94-2.06-.94-.94-2.06-.94 2.06-2.06.94z\"/><path d=\"M17.41 7.96l-1.37-1.37c-.4-.4-.92-.59-1.43-.59-.52 0-1.04.2-1.43.59L10.3 9.45l-7.72 7.72c-.78.78-.78 2.05 0 2.83L4 21.41c.39.39.9.59 1.41.59.51 0 1.02-.2 1.41-.59l7.78-7.78 2.81-2.81c.8-.78.8-2.07 0-2.86zM5.41 20L4 18.59l7.72-7.72 1.47 1.35L5.41 20z\"/>\n",
              "  </svg>\n",
              "      </button>\n",
              "      \n",
              "  <style>\n",
              "    .colab-df-container {\n",
              "      display:flex;\n",
              "      flex-wrap:wrap;\n",
              "      gap: 12px;\n",
              "    }\n",
              "\n",
              "    .colab-df-convert {\n",
              "      background-color: #E8F0FE;\n",
              "      border: none;\n",
              "      border-radius: 50%;\n",
              "      cursor: pointer;\n",
              "      display: none;\n",
              "      fill: #1967D2;\n",
              "      height: 32px;\n",
              "      padding: 0 0 0 0;\n",
              "      width: 32px;\n",
              "    }\n",
              "\n",
              "    .colab-df-convert:hover {\n",
              "      background-color: #E2EBFA;\n",
              "      box-shadow: 0px 1px 2px rgba(60, 64, 67, 0.3), 0px 1px 3px 1px rgba(60, 64, 67, 0.15);\n",
              "      fill: #174EA6;\n",
              "    }\n",
              "\n",
              "    [theme=dark] .colab-df-convert {\n",
              "      background-color: #3B4455;\n",
              "      fill: #D2E3FC;\n",
              "    }\n",
              "\n",
              "    [theme=dark] .colab-df-convert:hover {\n",
              "      background-color: #434B5C;\n",
              "      box-shadow: 0px 1px 3px 1px rgba(0, 0, 0, 0.15);\n",
              "      filter: drop-shadow(0px 1px 2px rgba(0, 0, 0, 0.3));\n",
              "      fill: #FFFFFF;\n",
              "    }\n",
              "  </style>\n",
              "\n",
              "      <script>\n",
              "        const buttonEl =\n",
              "          document.querySelector('#df-0bf1c375-ccc7-416f-b400-be2049f414f9 button.colab-df-convert');\n",
              "        buttonEl.style.display =\n",
              "          google.colab.kernel.accessAllowed ? 'block' : 'none';\n",
              "\n",
              "        async function convertToInteractive(key) {\n",
              "          const element = document.querySelector('#df-0bf1c375-ccc7-416f-b400-be2049f414f9');\n",
              "          const dataTable =\n",
              "            await google.colab.kernel.invokeFunction('convertToInteractive',\n",
              "                                                     [key], {});\n",
              "          if (!dataTable) return;\n",
              "\n",
              "          const docLinkHtml = 'Like what you see? Visit the ' +\n",
              "            '<a target=\"_blank\" href=https://colab.research.google.com/notebooks/data_table.ipynb>data table notebook</a>'\n",
              "            + ' to learn more about interactive tables.';\n",
              "          element.innerHTML = '';\n",
              "          dataTable['output_type'] = 'display_data';\n",
              "          await google.colab.output.renderOutput(dataTable, element);\n",
              "          const docLink = document.createElement('div');\n",
              "          docLink.innerHTML = docLinkHtml;\n",
              "          element.appendChild(docLink);\n",
              "        }\n",
              "      </script>\n",
              "    </div>\n",
              "  </div>\n",
              "  "
            ]
          },
          "metadata": {},
          "execution_count": 13
        }
      ]
    },
    {
      "cell_type": "markdown",
      "source": [
        "Row number 50391, which is the last row in the dataframe contains invalid data for all the columns. Thus, imputing this row."
      ],
      "metadata": {
        "id": "yJ6JLZwwiT4S"
      }
    },
    {
      "cell_type": "code",
      "source": [
        "energy_usage = energy_usage.drop(50391)"
      ],
      "metadata": {
        "id": "qnonjGnsfE6_"
      },
      "execution_count": 29,
      "outputs": []
    },
    {
      "cell_type": "code",
      "source": [],
      "metadata": {
        "id": "lPFlPRHoj2ba"
      },
      "execution_count": null,
      "outputs": []
    }
  ]
}